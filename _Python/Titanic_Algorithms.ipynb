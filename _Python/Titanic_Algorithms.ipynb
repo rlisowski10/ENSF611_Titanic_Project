{
 "nbformat": 4,
 "nbformat_minor": 2,
 "metadata": {
  "language_info": {
   "name": "python",
   "codemirror_mode": {
    "name": "ipython",
    "version": 3
   },
   "version": "3.7.3-final"
  },
  "orig_nbformat": 2,
  "file_extension": ".py",
  "mimetype": "text/x-python",
  "name": "python",
  "npconvert_exporter": "python",
  "pygments_lexer": "ipython3",
  "version": 3,
  "kernelspec": {
   "name": "python37364bitbaseconda3006071fd14d4dc2ad1cee013cfc8c59",
   "display_name": "Python 3.7.3 64-bit ('base': conda)"
  }
 },
 "cells": [
  {
   "cell_type": "code",
   "execution_count": 15,
   "metadata": {},
   "outputs": [],
   "source": [
    "import numpy as np\n",
    "import pandas as pd\n",
    "from sklearn.metrics import accuracy_score\n",
    "from sklearn import tree\n",
    "from sklearn.linear_model import LogisticRegression\n",
    "from sklearn.neighbors import KNeighborsClassifier\n",
    "from sklearn.svm import SVC\n",
    "from sklearn.model_selection import train_test_split\n",
    "from sklearn.model_selection import GridSearchCV"
   ]
  },
  {
   "cell_type": "code",
   "execution_count": 16,
   "metadata": {},
   "outputs": [],
   "source": [
    "# Read in titanic training data\n",
    "titanic_df = pd.read_csv(\"../_Data/train_with_ages.csv\")\n",
    "titanic_testing_df = pd.read_csv(\"../_Data/test_with_ages.csv\")\n",
    "titanic_submission_df = titanic_testing_df"
   ]
  },
  {
   "cell_type": "code",
   "execution_count": 17,
   "metadata": {},
   "outputs": [],
   "source": [
    "# Set the fare to '0' for titanic_testing_df index '152'\n",
    "def add_fare_values(fare):\n",
    "    if fare >= 0:\n",
    "        return fare\n",
    "    else:\n",
    "        return 0\n",
    "\n",
    "titanic_testing_df['Fare'] = titanic_testing_df.apply(lambda row: add_fare_values(row['Fare']), axis=1)"
   ]
  },
  {
   "cell_type": "code",
   "execution_count": 18,
   "metadata": {},
   "outputs": [],
   "source": [
    "# Drop columns that data that will not likely be helpful\n",
    "titanic_df = titanic_df.drop(['PassengerId', 'Name', 'Ticket', 'Cabin', 'Embarked'], axis=1)\n",
    "titanic_testing_df = titanic_testing_df.drop(['PassengerId', 'Name', 'Ticket', 'Cabin', 'Embarked'], axis=1)"
   ]
  },
  {
   "cell_type": "code",
   "execution_count": 19,
   "metadata": {},
   "outputs": [],
   "source": [
    "# Convert Female to 0 and Male to 1\n",
    "titanic_df = titanic_df.replace('female', 0)\n",
    "titanic_df = titanic_df.replace('male', 1)\n",
    "\n",
    "titanic_testing_df = titanic_testing_df.replace('female', 0)\n",
    "titanic_testing_df = titanic_testing_df.replace('male', 1)"
   ]
  },
  {
   "cell_type": "code",
   "execution_count": 20,
   "metadata": {},
   "outputs": [
    {
     "name": "stdout",
     "output_type": "stream",
     "text": "Shape of titanic_np: (891, 7)\nShape of titanic_testing_np: (418, 6)\n"
    }
   ],
   "source": [
    "# Convert pandas dataframe into numpy array\n",
    "titanic_np = titanic_df.to_numpy()\n",
    "titanic_testing_np = titanic_testing_df.to_numpy()\n",
    "print(f'Shape of titanic_np: {titanic_np.shape}')\n",
    "print(f'Shape of titanic_testing_np: {titanic_testing_np.shape}')"
   ]
  },
  {
   "cell_type": "code",
   "execution_count": 21,
   "metadata": {},
   "outputs": [
    {
     "name": "stdout",
     "output_type": "stream",
     "text": "Shape of titanic_features: (891, 6)\nShape of titanic_labels: (891, 1)\nShape of titanic_testing_features: (418, 6)\n"
    }
   ],
   "source": [
    "# Create separate numpy arrays for features and labels\n",
    "titanic_features = titanic_np[:, 1:]\n",
    "titanic_labels = titanic_np[:, 0:1]\n",
    "titanic_testing_features = titanic_testing_np\n",
    "\n",
    "print(f'Shape of titanic_features: {titanic_features.shape}')\n",
    "print(f'Shape of titanic_labels: {titanic_labels.shape}')\n",
    "print(f'Shape of titanic_testing_features: {titanic_testing_features.shape}')"
   ]
  },
  {
   "cell_type": "code",
   "execution_count": 22,
   "metadata": {},
   "outputs": [
    {
     "name": "stdout",
     "output_type": "stream",
     "text": "Shape of features_train: (801, 6)\nShape of labels_train: (801, 1)\nShape of features_test: (90, 6)\nShape of labels_test: (90, 1)\n"
    }
   ],
   "source": [
    "# Split the data into 90% training and 10% testing\n",
    "features_train, features_test, labels_train, labels_test = train_test_split(titanic_features, titanic_labels, test_size=0.10, random_state=10)\n",
    "\n",
    "print(f'Shape of features_train: {features_train.shape}')\n",
    "print(f'Shape of labels_train: {labels_train.shape}')\n",
    "print(f'Shape of features_test: {features_test.shape}')\n",
    "print(f'Shape of labels_test: {labels_test.shape}')"
   ]
  },
  {
   "cell_type": "code",
   "execution_count": 23,
   "metadata": {},
   "outputs": [],
   "source": [
    "# Perform a grid search for the chosen classifier\n",
    "def grid_search(classifier, param_grid):\n",
    "    classifier = GridSearchCV(classifier, param_grid, verbose=0, n_jobs=-1)\n",
    "    classifier.fit(features_train, labels_train)\n",
    "    classifier.best_params_\n",
    "    print(classifier.best_params_)\n",
    "    print(f'Best score: {classifier.best_score_}')\n",
    "\n",
    "# Train and validate the model for the chosen classifier\n",
    "def train_validate_model(model, algorithm):\n",
    "    model = model.fit(features_train, labels_train)\n",
    "    labels_predict = model.predict(features_test)\n",
    "\n",
    "    accuracy = accuracy_score(labels_predict, labels_test)\n",
    "    print(f\"Accuracy for {algorithm}: {accuracy:.3f}\")\n",
    "\n",
    "    return model\n",
    "\n",
    "# Predict Survived labels for testing dataset\n",
    "def predict_testing_labels(model):\n",
    "    labels_testing_predict = model.predict(titanic_testing_features)\n",
    "    return labels_testing_predict"
   ]
  },
  {
   "cell_type": "code",
   "execution_count": 24,
   "metadata": {},
   "outputs": [
    {
     "name": "stdout",
     "output_type": "stream",
     "text": "{'criterion': 'gini', 'min_samples_split': 24}\nBest score: 0.8102173913043478\n"
    }
   ],
   "source": [
    "# Grid Search for Decision Tree Classifier\n",
    "algorithm = \"DT\"\n",
    "\n",
    "if algorithm == \"DT\":\n",
    "    dtc_grid_search = tree.DecisionTreeClassifier()\n",
    "    param_grid = {'criterion': ['gini', 'entropy'], 'min_samples_split': [2, 4, 6, 8, 10, 12, 14, 16, 18, 20, 22, 24, 26, 28, 30]}\n",
    "    grid_search(dtc_grid_search, param_grid)\n",
    "elif algorithm == \"LogReg\":\n",
    "    log_reg_grid_search = LogisticRegression()\n",
    "    param_grid = {'penalty': ['l1', 'l2'], 'C': [0.001, 0.01, 0.1, 0.2, 0.4, 0.6, 0.8, 1, 1.2, 1.4, 1.6, 1.8, 2.0]}\n",
    "    grid_search(log_reg_grid_search, param_grid)\n",
    "elif algorithm == \"KNN\":\n",
    "    KNN_grid_search = KNeighborsClassifier()\n",
    "    param_grid = {'weights': ['uniform', 'distance'], 'n_neighbors': [1, 2, 6, 10, 12, 14, 16, 18, 20, 30, 40], 'algorithm': ['auto', 'ball_tree', 'kd_tree', 'brute']}\n",
    "    grid_search(KNN_grid_search, param_grid)\n",
    "elif algorithm == \"SVC\":\n",
    "    SVC_grid_search = SVC()\n",
    "    param_grid = {'kernel': ['linear', 'rbf', 'sigmoid'], 'C': [0.01, 0.2, 0.6, 1], 'gamma': ['scale', 'auto']}\n",
    "    grid_search(SVC_grid_search, param_grid)"
   ]
  },
  {
   "cell_type": "code",
   "execution_count": 25,
   "metadata": {},
   "outputs": [
    {
     "name": "stdout",
     "output_type": "stream",
     "text": "Accuracy for DT: 0.833\n"
    }
   ],
   "source": [
    "# Decision Tree Classifier training and validation\n",
    "if algorithm == \"DT\":\n",
    "    dtc = tree.DecisionTreeClassifier(criterion='gini', min_samples_split=24)\n",
    "    model = train_validate_model(dtc, algorithm)\n",
    "    labels_testing_predict = predict_testing_labels(model)\n",
    "elif algorithm == \"LogReg\":\n",
    "    log_reg = LogisticRegression(penalty='l2', C=0.2)\n",
    "    model = train_validate_model(log_reg, algorithm)\n",
    "    labels_testing_predict = predict_testing_labels(model)\n",
    "elif algorithm == \"KNN\":\n",
    "    knn = KNeighborsClassifier(algorithm='brute', n_neighbors=30, weights='distance')\n",
    "    model = train_validate_model(knn, algorithm)\n",
    "    labels_testing_predict = predict_testing_labels(model)\n",
    "elif algorithm == \"SVC\":\n",
    "    svc = SVC(C=0.2, gamma='scale', kernel='linear')\n",
    "    model = train_validate_model(svc, algorithm)\n",
    "    labels_testing_predict = predict_testing_labels(model)"
   ]
  },
  {
   "cell_type": "code",
   "execution_count": 26,
   "metadata": {},
   "outputs": [],
   "source": [
    "# Convert numpy labels array to dataframe\n",
    "labels_testing_predict_df = pd.DataFrame(labels_testing_predict, index=None, columns=['Survived'])"
   ]
  },
  {
   "cell_type": "code",
   "execution_count": 27,
   "metadata": {},
   "outputs": [],
   "source": [
    "# Copy the predicted survival labels to the submission dataframe and change column to int64\n",
    "titanic_submission_df['Survived'] = labels_testing_predict_df['Survived']\n",
    "titanic_submission_df['Survived'] = titanic_submission_df['Survived'].astype('int64')"
   ]
  },
  {
   "cell_type": "code",
   "execution_count": 28,
   "metadata": {},
   "outputs": [],
   "source": [
    "# Drop all columns not needed for submission.\n",
    "titanic_submission_df_final = titanic_submission_df.drop(['Pclass', 'Name', 'Sex', 'Age', 'SibSp', 'Parch', 'Ticket', 'Fare', 'Cabin', 'Embarked'], axis=1)"
   ]
  },
  {
   "cell_type": "code",
   "execution_count": null,
   "metadata": {},
   "outputs": [],
   "source": [
    "# Write to CSV results file\n",
    "# titanic_submission_df_final.to_csv('../_Submission/006_Ryan_Submission_Temp.csv', index=False)"
   ]
  },
  {
   "cell_type": "markdown",
   "execution_count": null,
   "metadata": {},
   "outputs": [],
   "source": [
    "## Model results versus the 10% test set:\n",
    "\n",
    "Test set accuracy for Decision Tree: 0.833\n",
    "\n",
    "Test set accuracy for Logistic Regression: 0.811\n",
    "\n",
    "Test set accuracy for KNN: 0.744\n",
    "\n",
    "Test set accuracy for SVC: 0.822"
   ]
  }
 ]
}